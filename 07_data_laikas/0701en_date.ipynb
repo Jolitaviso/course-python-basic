{
 "cells": [
  {
   "cell_type": "markdown",
   "metadata": {},
   "source": [
    "# Time and Date Formatting"
   ]
  },
  {
   "cell_type": "markdown",
   "metadata": {},
   "source": [
    "### `datetime` class"
   ]
  },
  {
   "cell_type": "code",
   "execution_count": 3,
   "metadata": {},
   "outputs": [
    {
     "name": "stdout",
     "output_type": "stream",
     "text": [
      "2023-10-26 18:58:20\n"
     ]
    }
   ],
   "source": [
    "from datetime import datetime\n",
    "\n",
    "now = datetime(2023, 10, 26, 18, 58, 20)\n",
    "\n",
    "print(now)"
   ]
  },
  {
   "cell_type": "markdown",
   "metadata": {},
   "source": [
    "### `datetime.now()` function"
   ]
  },
  {
   "cell_type": "code",
   "execution_count": 4,
   "metadata": {},
   "outputs": [
    {
     "name": "stdout",
     "output_type": "stream",
     "text": [
      "2024-01-16 09:30:26.807554\n"
     ]
    }
   ],
   "source": [
    "from datetime import datetime\n",
    "\n",
    "now = datetime.now()\n",
    "# turns current date into an object\n",
    "\n",
    "print(now) # you will get standart time\n",
    "\n"
   ]
  },
  {
   "cell_type": "markdown",
   "metadata": {},
   "source": [
    "### Quick Assignement 1\n",
    "\n",
    "Write a program that would give a current time, but it would give only minutes and seconds"
   ]
  },
  {
   "cell_type": "markdown",
   "metadata": {},
   "source": [
    "### `date` class"
   ]
  },
  {
   "cell_type": "code",
   "execution_count": 6,
   "metadata": {},
   "outputs": [
    {
     "name": "stdout",
     "output_type": "stream",
     "text": [
      "2023-11-26\n"
     ]
    }
   ],
   "source": [
    "from datetime import date\n",
    "\n",
    "# verys similar to `datetime` but we do not get the time\n",
    "\n",
    "today = date(2023, 11, 26)\n",
    "\n",
    "print(today)"
   ]
  },
  {
   "cell_type": "markdown",
   "metadata": {},
   "source": [
    "### `date.today()` function"
   ]
  },
  {
   "cell_type": "code",
   "execution_count": 7,
   "metadata": {},
   "outputs": [
    {
     "name": "stdout",
     "output_type": "stream",
     "text": [
      "2024-01-16\n"
     ]
    }
   ],
   "source": [
    "from datetime import date\n",
    "\n",
    "# very similar `datetime.now()` function, however, we do not get the time\n",
    "\n",
    "today = date.today()\n",
    "\n",
    "print(today)"
   ]
  },
  {
   "cell_type": "markdown",
   "metadata": {},
   "source": [
    "### `datetime.timedelta` class"
   ]
  },
  {
   "cell_type": "code",
   "execution_count": 18,
   "metadata": {},
   "outputs": [
    {
     "name": "stdout",
     "output_type": "stream",
     "text": [
      "Current time: 2024-01-16 09:31:47.703955\n",
      "After 8 days : 2024-01-24 09:31:47.703955\n",
      "4 hours ago: 2024-01-16 05:31:47.703955\n"
     ]
    }
   ],
   "source": [
    "from datetime import datetime, timedelta\n",
    "\n",
    "now = datetime.now()\n",
    "print(\"Current time:\", now)\n",
    "\n",
    "# We add 8 days to current date\n",
    "after_8_days = now + timedelta(days=8)\n",
    "print(\"After 8 days :\", after_8_days)\n",
    "\n",
    "# We substract 4 hours from the current time\n",
    "four_hours_ago = now - timedelta(hours=4)\n",
    "print(\"4 hours ago:\", four_hours_ago)\n"
   ]
  },
  {
   "cell_type": "markdown",
   "metadata": {},
   "source": [
    "### Math with date and time"
   ]
  },
  {
   "cell_type": "code",
   "execution_count": 20,
   "metadata": {},
   "outputs": [
    {
     "name": "stdout",
     "output_type": "stream",
     "text": [
      "Difference between dates: 852 days, 0:00:00\n"
     ]
    }
   ],
   "source": [
    "\n",
    "# Difference between two dates\n",
    "date1 = datetime(2023, 10, 17)\n",
    "date2 = datetime(2021, 6, 17)\n",
    "difference = date1 - date2\n",
    "print(\"Difference between dates:\", difference)\n"
   ]
  },
  {
   "cell_type": "markdown",
   "metadata": {},
   "source": [
    "## Date and time formating `strftime`\n",
    "\n",
    "`datetime` module function `strftime` permits to transform time and date object into a string.\n"
   ]
  },
  {
   "cell_type": "code",
   "execution_count": 21,
   "metadata": {},
   "outputs": [
    {
     "name": "stdout",
     "output_type": "stream",
     "text": [
      "2023-10-26 19:30:00\n"
     ]
    }
   ],
   "source": [
    "from datetime import datetime\n",
    "\n",
    "date = datetime(2023, 10, 26, 19, 30, 0) # we enter the date\n",
    "string_formant = \"%Y-%m-%d %H:%M:%S\" # we enter the string \n",
    "\n",
    "date_string = date.strftime(string_formant)\n",
    "print(date_string)"
   ]
  },
  {
   "cell_type": "markdown",
   "metadata": {},
   "source": [
    "%Y, %m, %d, %H, %M ir %S symbols correspont to years, months, days, hours, minutes and seconds"
   ]
  },
  {
   "cell_type": "markdown",
   "metadata": {},
   "source": [
    "### Quick Assignement 2\n",
    "\n",
    "Create a function that accepts a date of birth as a string (in the format \"%Y-%m-%d\") and returns the number of days until your birthday"
   ]
  },
  {
   "cell_type": "markdown",
   "metadata": {},
   "source": [
    "## Formatting date and time from string using `strptime`"
   ]
  },
  {
   "cell_type": "markdown",
   "metadata": {},
   "source": [
    "Python allows you to format a string of text into a datetime object."
   ]
  },
  {
   "cell_type": "code",
   "execution_count": 22,
   "metadata": {},
   "outputs": [
    {
     "name": "stdout",
     "output_type": "stream",
     "text": [
      "2023-10-26 19:30:00\n"
     ]
    }
   ],
   "source": [
    "from datetime import datetime\n",
    "\n",
    "date = \"2023-10-26 19:30:00\"\n",
    "string_format = \"%Y-%m-%d %H:%M:%S\"\n",
    "\n",
    "date_object = datetime.strptime(date, string_format)\n",
    "print(date_object)"
   ]
  },
  {
   "cell_type": "markdown",
   "metadata": {},
   "source": [
    "### Quick Assignement 3\n",
    "\n",
    "Write a program that accepts a date and time in string format (for example, \"2023-05-21 15:30\"), adds 48 hours to it, and returns the new date and time in string format."
   ]
  },
  {
   "cell_type": "markdown",
   "metadata": {},
   "source": [
    "## Representing dates and times as numbers using `timestamp`\n",
    "\n",
    "Timestamp is a number that shows how many seconds have passed since 1970. January 1, 00:00:00 (UTC). Python allows you to convert datetime objects to timestamps and back. Here's how to do it:"
   ]
  },
  {
   "cell_type": "code",
   "execution_count": 23,
   "metadata": {},
   "outputs": [
    {
     "name": "stdout",
     "output_type": "stream",
     "text": [
      "1698334200.0\n"
     ]
    }
   ],
   "source": [
    "\n",
    "from datetime import datetime\n",
    "import time\n",
    "\n",
    "date_obj = datetime(2023, 10, 26, 18, 30, 0)\n",
    "\n",
    "timestamp = time.mktime(date_obj.timetuple())\n",
    "print(timestamp)\n"
   ]
  },
  {
   "cell_type": "markdown",
   "metadata": {},
   "source": [
    "\n",
    "### Converting timestamp into a date object\n"
   ]
  },
  {
   "cell_type": "code",
   "execution_count": 24,
   "metadata": {},
   "outputs": [
    {
     "name": "stdout",
     "output_type": "stream",
     "text": [
      "2023-10-26 19:30:00\n"
     ]
    }
   ],
   "source": [
    "\n",
    "from datetime import datetime\n",
    "import time\n",
    "\n",
    "timestamp = 1698337800\n",
    "\n",
    "date_obj = datetime.fromtimestamp(timestamp)\n",
    "print(date_obj)\n"
   ]
  },
  {
   "cell_type": "markdown",
   "metadata": {},
   "source": [
    "## Pirma užduotis\n",
    "Parašykite programą, kuri pateiktų dabartinį laiką, bet tik minutes ir sekundes."
   ]
  },
  {
   "cell_type": "code",
   "execution_count": 87,
   "metadata": {},
   "outputs": [
    {
     "name": "stdout",
     "output_type": "stream",
     "text": [
      "51:02\n"
     ]
    }
   ],
   "source": [
    "from datetime import datetime\n",
    "dabar = datetime.now()\n",
    "format_string = \"%M:%S\"\n",
    "laikas = dabar.strftime(format_string)\n",
    "print(laikas)"
   ]
  },
  {
   "cell_type": "markdown",
   "metadata": {},
   "source": [
    "## Antra užduotis\n",
    "Sukurkite funkciją, kuri priimtų gimimo datą kaip stringą (formatu \"%Y-%m-%d\") ir grąžintų, kiek dienų liko iki jūsų gimtadienio"
   ]
  },
  {
   "cell_type": "code",
   "execution_count": 86,
   "metadata": {},
   "outputs": [
    {
     "name": "stdout",
     "output_type": "stream",
     "text": [
      "Liko 1 dienos (-ų) iki gimtadienio.\n"
     ]
    }
   ],
   "source": [
    "from datetime import datetime, date\n",
    "\n",
    "def dienos_iki_gimtadienio(gimimo_data):\n",
    "    gimimo_data_format = datetime.strptime(gimimo_data, \"%Y-%m-%d\")\n",
    "    siandiena = date.today()\n",
    "    siandiena = datetime(siandiena.year, siandiena.month, siandiena.day)\n",
    "    gimtadienio_data = gimimo_data_format.replace(year=siandiena.year)\n",
    "\n",
    "    if gimtadienio_data < siandiena:\n",
    "        gimtadienio_data = gimtadienio_data.replace(year=siandiena.year + 1)\n",
    "\n",
    "    skirtumas = gimtadienio_data - siandiena\n",
    "    return skirtumas.days\n",
    "\n",
    "gimimo_data = \"1997-01-17\"\n",
    "print(f\"Liko {dienos_iki_gimtadienio(gimimo_data)} dienos (-ų) iki gimtadienio.\")"
   ]
  },
  {
   "cell_type": "markdown",
   "metadata": {},
   "source": [
    "## Trečia užduotis\n",
    "Parašykite programą, kuri priimtų datą ir laiką stringo formatu (pavyzdžiui, \"2023-05-21 15:30\"), pridėtų prie to 48 valandas ir grąžintų naują datą ir laiką stringo formatu."
   ]
  },
  {
   "cell_type": "code",
   "execution_count": 58,
   "metadata": {},
   "outputs": [
    {
     "name": "stdout",
     "output_type": "stream",
     "text": [
      "Pridėjus 48 valandas: 2023-05-23 15:30\n"
     ]
    }
   ],
   "source": [
    "from datetime import datetime, timedelta\n",
    "\n",
    "def prideti_48_valandas(data_laikas):\n",
    "    format_string = \"%Y-%m-%d %H:%M\"\n",
    "    date_object = datetime.strptime(data_laikas, format_string)\n",
    "    naujas_date_object = date_object + timedelta(hours=48)\n",
    "    naujas_data_laikas = naujas_date_object.strftime(format_string)\n",
    "    return naujas_data_laikas\n",
    "\n",
    "data_laikas = \"2023-05-21 15:30\"\n",
    "print(f\"Pridėjus 48 valandas: {prideti_48_valandas(data_laikas)}\")"
   ]
  },
  {
   "cell_type": "code",
   "execution_count": 63,
   "metadata": {},
   "outputs": [
    {
     "name": "stdout",
     "output_type": "stream",
     "text": [
      "Praėjus 36 val. bus toks laikas: 2024-01-17 22:17\n"
     ]
    }
   ],
   "source": [
    "from datetime import datetime, timedelta\n",
    "def prideti_36_valandas(data_laikas):\n",
    "    format_string = \"%Y-%m-%d %H:%M\"\n",
    "    date_obj  = datetime.strptime(data_laikas, format_string)\n",
    "    naujas_data_obj = date_obj + timedelta(hours=36)\n",
    "    naujas_data_laikas = naujas_data_obj.strftime(format_string)\n",
    "    return naujas_data_laikas\n",
    "data_laikas = \"2024-1-16 10:17\"\n",
    "print(f'Praėjus 36 val. bus toks laikas: {prideti_36_valandas(data_laikas)}')"
   ]
  },
  {
   "cell_type": "markdown",
   "metadata": {},
   "source": [
    "### Quick Assignement 4\n",
    "\n",
    "Write a program that accepts two periods as timestamps and returns the difference in days between the periods.\n",
    "\n",
    "Parašykite programą, kuri priimtų du laikotarpius kaip timestamp'us ir grąžintų laikotarpių skirtumą dienomis."
   ]
  },
  {
   "cell_type": "code",
   "execution_count": 5,
   "metadata": {},
   "outputs": [
    {
     "name": "stdout",
     "output_type": "stream",
     "text": [
      "Tiek dienelių išgyventa kartu 1165 days, 0:00:00\n"
     ]
    }
   ],
   "source": [
    "date1 = datetime(2019, 11, 8,)\n",
    "date2 = datetime(2023, 1, 16)\n",
    "difference = date2 - date1\n",
    "print(\"Tiek dienelių išgyventa kartu\", difference)"
   ]
  },
  {
   "cell_type": "code",
   "execution_count": 4,
   "metadata": {},
   "outputs": [
    {
     "name": "stdout",
     "output_type": "stream",
     "text": [
      "Laikotarpių skirtumas dienomis: ((311, 311), (281, 30))\n"
     ]
    }
   ],
   "source": [
    "from datetime import datetime\n",
    "\n",
    "def skirtumas_dienomis(timestamp1, timestamp2):\n",
    "    date_object1 = datetime.fromtimestamp(timestamp1)\n",
    "    date_object2 = datetime.fromtimestamp(timestamp2)\n",
    "    date_object3 = datetime.fromtimestamp(timestamp3)\n",
    "    skirtumas = abs(date_object1 - date_object3)\n",
    "    skirtumas2 = abs(date_object2 - date_object1)\n",
    "    return skirtumas.days, skirtumas2.days\n",
    "\n",
    "    \n",
    "\n",
    "timestamp1 = 1671395400\n",
    "timestamp3 = 1698334200\n",
    "timestamp2 = 1674000000\n",
    "print(f\"Laikotarpių skirtumas dienomis: {skirtumas_dienomis(timestamp1, timestamp3), skirtumas_dienomis(timestamp2, timestamp1)}\")"
   ]
  },
  {
   "cell_type": "markdown",
   "metadata": {},
   "source": [
    "### Quick Assignement 5\n",
    "\n",
    "Create a function that accepts a date as a string (for example, \"06/01/2023\") and returns what day of the week that date is (for example, \"Monday\", \"Tuesday\", etc.).\n",
    "\n",
    "Sukurkite funkciją, kuri priimtų datą kaip stringą (pavyzdžiui, \"2023-06-01\") ir grąžintų, kokia savaitės diena yra ta data (pavyzdžiui, \"Pirmadienis\", \"Antradienis\" ir tt.)."
   ]
  },
  {
   "cell_type": "code",
   "execution_count": 3,
   "metadata": {},
   "outputs": [
    {
     "name": "stdout",
     "output_type": "stream",
     "text": [
      "Ši data yra Antradienis\n"
     ]
    }
   ],
   "source": [
    "from datetime import datetime\n",
    "\n",
    "def savaites_diena(data):\n",
    "    format_string = \"%Y-%m-%d\"\n",
    "    date_object = datetime.strptime(data, format_string)\n",
    "    dienos = [\"Pirmadienis\", \"Antradienis\", \"Trečiadienis\", \"Ketvirtadienis\", \"Penktadienis\", \"Šeštadienis\", \"Sekmadienis\"]\n",
    "    return dienos[date_object.weekday()]\n",
    "\n",
    "data = \"2023-01-17\"\n",
    "print(f\"Ši data yra {savaites_diena(data)}\")"
   ]
  },
  {
   "cell_type": "markdown",
   "metadata": {},
   "source": [
    "## Pirma užduotis\n",
    "Parašykite programą, kuri išvestų sąrašą visų laiko zonų, kurių pavadinime yra \"America\"."
   ]
  },
  {
   "cell_type": "code",
   "execution_count": 1,
   "metadata": {},
   "outputs": [],
   "source": [
    "from zoneinfo import available_timezones\n",
    "\n",
    "america_time_zones = []\n",
    "\n",
    "for tz in available_timezones():\n",
    "    if \"America\" in tz:\n",
    "        america_time_zones.append(tz)\n",
    "\n",
    "for time_zone in america_time_zones:\n",
    "    print(time_zone)"
   ]
  },
  {
   "cell_type": "markdown",
   "metadata": {},
   "source": []
  },
  {
   "cell_type": "markdown",
   "metadata": {},
   "source": [
    "## Antra užduotis\n",
    "Parašykite programą, kuri iš vartotojo paprašytų laiko HH:MM(:SS) formatu, kur sekundės nėra būtinos. Tada paprašykite įvesti laiko zoną. Išspausdinkite įvestą laiką šiomis laiko zonomis: Sydney'aus, Dubai'aus, Vilniaus, London'o, New York'o ir Los Angeles."
   ]
  },
  {
   "cell_type": "code",
   "execution_count": 10,
   "metadata": {},
   "outputs": [
    {
     "ename": "ValueError",
     "evalue": "ZoneInfo keys must be normalized relative paths, got: ",
     "output_type": "error",
     "traceback": [
      "\u001b[1;31m---------------------------------------------------------------------------\u001b[0m",
      "\u001b[1;31mValueError\u001b[0m                                Traceback (most recent call last)",
      "Cell \u001b[1;32mIn[10], line 12\u001b[0m\n\u001b[0;32m      9\u001b[0m     formatas \u001b[38;5;241m=\u001b[39m \u001b[38;5;124m\"\u001b[39m\u001b[38;5;124m%\u001b[39m\u001b[38;5;124mH:\u001b[39m\u001b[38;5;124m%\u001b[39m\u001b[38;5;124mM:\u001b[39m\u001b[38;5;124m%\u001b[39m\u001b[38;5;124mS\u001b[39m\u001b[38;5;124m\"\u001b[39m\n\u001b[0;32m     10\u001b[0m laikas \u001b[38;5;241m=\u001b[39m datetime\u001b[38;5;241m.\u001b[39mstrptime(ivestas_laikas, formatas)\n\u001b[1;32m---> 12\u001b[0m sydney \u001b[38;5;241m=\u001b[39m laikas\u001b[38;5;241m.\u001b[39mreplace(tzinfo\u001b[38;5;241m=\u001b[39m\u001b[43mZoneInfo\u001b[49m\u001b[43m(\u001b[49m\u001b[43mvartotojo_laiko_zona\u001b[49m\u001b[43m)\u001b[49m)\u001b[38;5;241m.\u001b[39mastimezone(ZoneInfo(\u001b[38;5;124m\"\u001b[39m\u001b[38;5;124mAustralia/Sydney\u001b[39m\u001b[38;5;124m\"\u001b[39m))\n\u001b[0;32m     13\u001b[0m dubai \u001b[38;5;241m=\u001b[39m laikas\u001b[38;5;241m.\u001b[39mreplace(tzinfo\u001b[38;5;241m=\u001b[39mZoneInfo(vartotojo_laiko_zona))\u001b[38;5;241m.\u001b[39mastimezone(ZoneInfo(\u001b[38;5;124m\"\u001b[39m\u001b[38;5;124mAsia/Dubai\u001b[39m\u001b[38;5;124m\"\u001b[39m))\n\u001b[0;32m     14\u001b[0m vilnius \u001b[38;5;241m=\u001b[39m laikas\u001b[38;5;241m.\u001b[39mreplace(tzinfo\u001b[38;5;241m=\u001b[39mZoneInfo(vartotojo_laiko_zona))\u001b[38;5;241m.\u001b[39mastimezone(ZoneInfo(\u001b[38;5;124m\"\u001b[39m\u001b[38;5;124mEurope/Vilnius\u001b[39m\u001b[38;5;124m\"\u001b[39m))\n",
      "File \u001b[1;32m~\\AppData\\Local\\Programs\\Python\\Python312\\Lib\\zoneinfo\\_tzpath.py:67\u001b[0m, in \u001b[0;36mfind_tzfile\u001b[1;34m(key)\u001b[0m\n\u001b[0;32m     65\u001b[0m \u001b[38;5;28;01mdef\u001b[39;00m \u001b[38;5;21mfind_tzfile\u001b[39m(key):\n\u001b[0;32m     66\u001b[0m \u001b[38;5;250m    \u001b[39m\u001b[38;5;124;03m\"\"\"Retrieve the path to a TZif file from a key.\"\"\"\u001b[39;00m\n\u001b[1;32m---> 67\u001b[0m     \u001b[43m_validate_tzfile_path\u001b[49m\u001b[43m(\u001b[49m\u001b[43mkey\u001b[49m\u001b[43m)\u001b[49m\n\u001b[0;32m     68\u001b[0m     \u001b[38;5;28;01mfor\u001b[39;00m search_path \u001b[38;5;129;01min\u001b[39;00m TZPATH:\n\u001b[0;32m     69\u001b[0m         filepath \u001b[38;5;241m=\u001b[39m os\u001b[38;5;241m.\u001b[39mpath\u001b[38;5;241m.\u001b[39mjoin(search_path, key)\n",
      "File \u001b[1;32m~\\AppData\\Local\\Programs\\Python\\Python312\\Lib\\zoneinfo\\_tzpath.py:91\u001b[0m, in \u001b[0;36m_validate_tzfile_path\u001b[1;34m(path, _base)\u001b[0m\n\u001b[0;32m     89\u001b[0m new_path \u001b[38;5;241m=\u001b[39m os\u001b[38;5;241m.\u001b[39mpath\u001b[38;5;241m.\u001b[39mnormpath(path)\n\u001b[0;32m     90\u001b[0m \u001b[38;5;28;01mif\u001b[39;00m \u001b[38;5;28mlen\u001b[39m(new_path) \u001b[38;5;241m!=\u001b[39m \u001b[38;5;28mlen\u001b[39m(path):\n\u001b[1;32m---> 91\u001b[0m     \u001b[38;5;28;01mraise\u001b[39;00m \u001b[38;5;167;01mValueError\u001b[39;00m(\n\u001b[0;32m     92\u001b[0m         \u001b[38;5;124mf\u001b[39m\u001b[38;5;124m\"\u001b[39m\u001b[38;5;124mZoneInfo keys must be normalized relative paths, got: \u001b[39m\u001b[38;5;132;01m{\u001b[39;00mpath\u001b[38;5;132;01m}\u001b[39;00m\u001b[38;5;124m\"\u001b[39m\n\u001b[0;32m     93\u001b[0m     )\n\u001b[0;32m     95\u001b[0m resolved \u001b[38;5;241m=\u001b[39m os\u001b[38;5;241m.\u001b[39mpath\u001b[38;5;241m.\u001b[39mnormpath(os\u001b[38;5;241m.\u001b[39mpath\u001b[38;5;241m.\u001b[39mjoin(_base, new_path))\n\u001b[0;32m     96\u001b[0m \u001b[38;5;28;01mif\u001b[39;00m \u001b[38;5;129;01mnot\u001b[39;00m resolved\u001b[38;5;241m.\u001b[39mstartswith(_base):\n",
      "\u001b[1;31mValueError\u001b[0m: ZoneInfo keys must be normalized relative paths, got: "
     ]
    }
   ],
   "source": [
    "from datetime import datetime\n",
    "from zoneinfo import ZoneInfo\n",
    "\n",
    "ivestas_laikas = input(\"Iveskite laika formatu HH:MM(:SS), sekundes nera butinos\")\n",
    "formatas = \"%H:%M\"\n",
    "vartotojo_laiko_zona = input(\"iveskite laiko zona pvz.:\\\"America/Barbados\\\"\")\n",
    "\n",
    "if len(ivestas_laikas) > 5:\n",
    "    formatas = \"%H:%M:%S\"\n",
    "laikas = datetime.strptime(ivestas_laikas, formatas)\n",
    "\n",
    "sydney = laikas.replace(tzinfo=ZoneInfo(vartotojo_laiko_zona)).astimezone(ZoneInfo(\"Australia/Sydney\"))\n",
    "dubai = laikas.replace(tzinfo=ZoneInfo(vartotojo_laiko_zona)).astimezone(ZoneInfo(\"Asia/Dubai\"))\n",
    "vilnius = laikas.replace(tzinfo=ZoneInfo(vartotojo_laiko_zona)).astimezone(ZoneInfo(\"Europe/Vilnius\"))\n",
    "london = laikas.replace(tzinfo=ZoneInfo(vartotojo_laiko_zona)).astimezone(ZoneInfo(\"Europe/London\"))\n",
    "new_york = laikas.replace(tzinfo=ZoneInfo(vartotojo_laiko_zona)).astimezone(ZoneInfo(\"America/New_York\"))\n",
    "los_angeles = laikas.replace(tzinfo=ZoneInfo(vartotojo_laiko_zona)).astimezone(ZoneInfo(\"America/Los_Angeles\"))\n",
    "\n",
    "print(f\"\"\"Jusu laikas: {laikas.time()}, {vartotojo_laiko_zona}\n",
    "Sydnejaus laikas: {sydney.time()}, Australia/Sydney\n",
    "Dubajaus laikas: {dubai.time()}, Asia/Dubai\n",
    "Vilniaus laikas: {vilnius.time()}, Europe/Vilnius\n",
    "Londono laikas: {london.time()}, Europe/London\n",
    "New Yorko laikas: {new_york.time()}, America/New York\n",
    "Los Angeles laikas: {los_angeles.time()}, America/ Los Angeles\"\"\")"
   ]
  }
 ],
 "metadata": {
  "kernelspec": {
   "display_name": "Python 3",
   "language": "python",
   "name": "python3"
  },
  "language_info": {
   "codemirror_mode": {
    "name": "ipython",
    "version": 3
   },
   "file_extension": ".py",
   "mimetype": "text/x-python",
   "name": "python",
   "nbconvert_exporter": "python",
   "pygments_lexer": "ipython3",
   "version": "3.12.1"
  }
 },
 "nbformat": 4,
 "nbformat_minor": 2
}
