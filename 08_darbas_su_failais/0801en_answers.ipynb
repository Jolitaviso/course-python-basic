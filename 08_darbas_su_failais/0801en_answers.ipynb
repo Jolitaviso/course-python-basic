{
 "cells": [
  {
   "cell_type": "markdown",
   "metadata": {},
   "source": [
    "# `Quick Assignment 1`"
   ]
  },
  {
   "cell_type": "code",
   "execution_count": 1,
   "metadata": {},
   "outputs": [
    {
     "ename": "FileNotFoundError",
     "evalue": "[Errno 2] No such file or directory: 'changes.txt'",
     "output_type": "error",
     "traceback": [
      "\u001b[1;31m---------------------------------------------------------------------------\u001b[0m",
      "\u001b[1;31mFileNotFoundError\u001b[0m                         Traceback (most recent call last)",
      "Cell \u001b[1;32mIn[1], line 2\u001b[0m\n\u001b[0;32m      1\u001b[0m \u001b[38;5;66;03m# Open the text file for reading\u001b[39;00m\n\u001b[1;32m----> 2\u001b[0m \u001b[38;5;28;01mwith\u001b[39;00m \u001b[38;5;28;43mopen\u001b[39;49m\u001b[43m(\u001b[49m\u001b[38;5;124;43m\"\u001b[39;49m\u001b[38;5;124;43mchanges.txt\u001b[39;49m\u001b[38;5;124;43m\"\u001b[39;49m\u001b[43m,\u001b[49m\u001b[43m \u001b[49m\u001b[38;5;124;43m\"\u001b[39;49m\u001b[38;5;124;43mr\u001b[39;49m\u001b[38;5;124;43m\"\u001b[39;49m\u001b[43m)\u001b[49m \u001b[38;5;28;01mas\u001b[39;00m file:\n\u001b[0;32m      3\u001b[0m     \u001b[38;5;66;03m# Read a line from the file\u001b[39;00m\n\u001b[0;32m      4\u001b[0m     line \u001b[38;5;241m=\u001b[39m file\u001b[38;5;241m.\u001b[39mreadline()\n\u001b[0;32m      6\u001b[0m     \u001b[38;5;66;03m# Convert uppercase to lowercase and vice versa\u001b[39;00m\n",
      "File \u001b[1;32mc:\\Users\\visoc\\CodeAcademy\\course-python-basic\\venv\\Lib\\site-packages\\IPython\\core\\interactiveshell.py:310\u001b[0m, in \u001b[0;36m_modified_open\u001b[1;34m(file, *args, **kwargs)\u001b[0m\n\u001b[0;32m    303\u001b[0m \u001b[38;5;28;01mif\u001b[39;00m file \u001b[38;5;129;01min\u001b[39;00m {\u001b[38;5;241m0\u001b[39m, \u001b[38;5;241m1\u001b[39m, \u001b[38;5;241m2\u001b[39m}:\n\u001b[0;32m    304\u001b[0m     \u001b[38;5;28;01mraise\u001b[39;00m \u001b[38;5;167;01mValueError\u001b[39;00m(\n\u001b[0;32m    305\u001b[0m         \u001b[38;5;124mf\u001b[39m\u001b[38;5;124m\"\u001b[39m\u001b[38;5;124mIPython won\u001b[39m\u001b[38;5;124m'\u001b[39m\u001b[38;5;124mt let you open fd=\u001b[39m\u001b[38;5;132;01m{\u001b[39;00mfile\u001b[38;5;132;01m}\u001b[39;00m\u001b[38;5;124m by default \u001b[39m\u001b[38;5;124m\"\u001b[39m\n\u001b[0;32m    306\u001b[0m         \u001b[38;5;124m\"\u001b[39m\u001b[38;5;124mas it is likely to crash IPython. If you know what you are doing, \u001b[39m\u001b[38;5;124m\"\u001b[39m\n\u001b[0;32m    307\u001b[0m         \u001b[38;5;124m\"\u001b[39m\u001b[38;5;124myou can use builtins\u001b[39m\u001b[38;5;124m'\u001b[39m\u001b[38;5;124m open.\u001b[39m\u001b[38;5;124m\"\u001b[39m\n\u001b[0;32m    308\u001b[0m     )\n\u001b[1;32m--> 310\u001b[0m \u001b[38;5;28;01mreturn\u001b[39;00m \u001b[43mio_open\u001b[49m\u001b[43m(\u001b[49m\u001b[43mfile\u001b[49m\u001b[43m,\u001b[49m\u001b[43m \u001b[49m\u001b[38;5;241;43m*\u001b[39;49m\u001b[43margs\u001b[49m\u001b[43m,\u001b[49m\u001b[43m \u001b[49m\u001b[38;5;241;43m*\u001b[39;49m\u001b[38;5;241;43m*\u001b[39;49m\u001b[43mkwargs\u001b[49m\u001b[43m)\u001b[49m\n",
      "\u001b[1;31mFileNotFoundError\u001b[0m: [Errno 2] No such file or directory: 'changes.txt'"
     ]
    }
   ],
   "source": [
    "# Open the text file for reading\n",
    "with open(\"changes.txt\", \"r\") as file:\n",
    "    # Read a line from the file\n",
    "    line = file.readline()\n",
    "    \n",
    "    # Convert uppercase to lowercase and vice versa\n",
    "    modified_line = line.swapcase()\n",
    "    \n",
    "    # Print the modified line\n",
    "    print(modified_line)"
   ]
  },
  {
   "cell_type": "markdown",
   "metadata": {},
   "source": [
    "# `Quick Assignment 2`"
   ]
  },
  {
   "cell_type": "code",
   "execution_count": 2,
   "metadata": {},
   "outputs": [],
   "source": [
    "# Create a new file \"numbers.txt\" for writing\n",
    "with open(\"numbers.txt\", \"w\") as file:\n",
    "    # Write numbers from 1 to 100\n",
    "    for number in range(1, 101):\n",
    "        file.write(str(number) + \"\\n\")"
   ]
  },
  {
   "cell_type": "markdown",
   "metadata": {},
   "source": [
    "# `Quick Assignment 3`"
   ]
  },
  {
   "cell_type": "code",
   "execution_count": null,
   "metadata": {},
   "outputs": [],
   "source": [
    "# Example 1\n",
    "# Open the file \"text.txt\" for reading\n",
    "with open(\"text.txt\", \"r\") as file:\n",
    "    file.seek(0, 2)  # Move to the end of the file\n",
    "    file_size = file.tell()  # Get the file size\n",
    "    middle = file_size // 2  # Find the middle of the file\n",
    "\n",
    "    file.seek(middle)  # Set the pointer to the middle\n",
    "    remaining_content = file.read()  # Read the remaining part\n",
    "    print(remaining_content)"
   ]
  },
  {
   "cell_type": "code",
   "execution_count": null,
   "metadata": {},
   "outputs": [],
   "source": [
    "# Example 2\n",
    "# Open the file \"text.txt\" for reading\n",
    "with open(\"text.txt\", \"r\") as file:\n",
    "    # Determine the file's size\n",
    "    file_size = file.seek(0, 2)\n",
    "\n",
    "    # Move the file pointer to the middle\n",
    "    middle_position = file_size // 2\n",
    "    file.seek(middle_position)\n",
    "\n",
    "    # Read and print the remaining content\n",
    "    remaining_content = file.read()\n",
    "    print(remaining_content)"
   ]
  },
  {
   "cell_type": "markdown",
   "metadata": {},
   "source": [
    "# `Bonus Assignment 4`"
   ]
  },
  {
   "cell_type": "code",
   "execution_count": null,
   "metadata": {},
   "outputs": [],
   "source": [
    "# Create a new file \"lines.txt\" for writing with UTF-8 encoding and append lines\n",
    "with open(\"lines.txt\", \"w\", encoding=\"utf-8\") as file:\n",
    "    lines = [\n",
    "        \"The sunset gently devours the earth.\",\n",
    "        \"In the evening, the wind whispers to the trees.\",\n",
    "        \"The wind doesn't calm down; it whispers and whistles.\",\n",
    "    ]\n",
    "    for line in lines:\n",
    "        file.write(line + \"\\n\")\n",
    "\n",
    "# Append your full name as a new line\n",
    "with open(\"lines.txt\", \"a\", encoding=\"utf-8\") as file:\n",
    "    file.write(\"Your Full Name\")  # Insert your full name here\n",
    "\n",
    "# Open \"lines.txt\" for reading with UTF-8 encoding and print lines with \"wind\"\n",
    "with open(\"lines.txt\", \"r\", encoding=\"utf-8\") as file:\n",
    "    for line in file:\n",
    "        if \"wind\" in line:\n",
    "            print(line)"
   ]
  }
 ],
 "metadata": {
  "kernelspec": {
   "display_name": "Python 3",
   "language": "python",
   "name": "python3"
  },
  "language_info": {
   "codemirror_mode": {
    "name": "ipython",
    "version": 3
   },
   "file_extension": ".py",
   "mimetype": "text/x-python",
   "name": "python",
   "nbconvert_exporter": "python",
   "pygments_lexer": "ipython3",
   "version": "3.12.1"
  }
 },
 "nbformat": 4,
 "nbformat_minor": 2
}
