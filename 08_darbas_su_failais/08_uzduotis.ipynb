{
 "cells": [
  {
   "cell_type": "markdown",
   "metadata": {},
   "source": [
    "### Pirma užduotis\n",
    "Atidarykite tekstiniame faile esančią eilutę ir atspausdinkite ją, pakeičiant visus didžiąsias raides mažosiomis ir atvirkščiai. Failo pavadinimas: \"pakeitimai.txt\".💡 Galite naudoti swapcase() funkciją."
   ]
  },
  {
   "cell_type": "code",
   "execution_count": 17,
   "metadata": {},
   "outputs": [
    {
     "name": "stdout",
     "output_type": "stream",
     "text": [
      "\"lABA dIENA, jUMS PRANESIMAS IS kAZIO\"\n",
      "\n"
     ]
    }
   ],
   "source": [
    "with open(\"pakeitimai.txt\", \"r\") as failas:\n",
    "    eilute = failas.readline()\n",
    "    nauja_eilute = eilute.swapcase()\n",
    "    print(nauja_eilute)"
   ]
  },
  {
   "cell_type": "markdown",
   "metadata": {},
   "source": [
    "### Antra užduotis\n",
    "Sukurkite naują failą \"skaiciai.txt\" ir įrašykite į jį skaičius nuo 1 iki 100, kiekvieną naujoje eilutėje."
   ]
  },
  {
   "cell_type": "code",
   "execution_count": 25,
   "metadata": {},
   "outputs": [],
   "source": [
    "with open(\"skaiciai.txt\", \"w\") as failas:\n",
    "    for skaicius in range(1, 101):\n",
    "        failas.write(f\"{skaicius}\\n\")"
   ]
  },
  {
   "cell_type": "markdown",
   "metadata": {},
   "source": [
    "### Trečia užduotis\n",
    "Atidarykite \"tekstas.txt\" failą, pakeiskite failo žymeklį į vidurį failo ir atspausdinkite likusį failo turinį."
   ]
  },
  {
   "cell_type": "code",
   "execution_count": 26,
   "metadata": {},
   "outputs": [
    {
     "name": "stdout",
     "output_type": "stream",
     "text": [
      "del nieko nerodo\n"
     ]
    }
   ],
   "source": [
    "with open(\"tekstas.txt\", \"r\") as failas:\n",
    "    failas.seek(0, 2)  # Pereikite į failo pabaigą\n",
    "    failo_ilgis = failas.tell()  # Gauti failo ilgį\n",
    "    vidurys = failo_ilgis // 2  # Rasti failo vidurį\n",
    "\n",
    "    failas.seek(vidurys)  # Nustatykite žymeklį ant vidurio\n",
    "    likusi_dalis = failas.read()  # Perskaitykite likusią dalį\n",
    "    print(likusi_dalis)"
   ]
  },
  {
   "cell_type": "markdown",
   "metadata": {},
   "source": [
    "### Ketvirta užduotis\n",
    "Sukurkite failą \"eilutes.txt\" ir įrašykite į jį šias eilutes:\n",
    "Saulėlydis žėri žemę švelniai.\n",
    "Vakare vėjas šnypščia medžius.\n",
    "Vėjas nerimsta, šnypščia ir švilpia.\n",
    "Papildykite failą \"eilutes.txt\" nauja eilute, kuri yra jūsų vardas ir pavardė.\n",
    "\n",
    "Atidarykite \"eilutes.txt\" failą, perskaitykite jo turinį ir atspausdinkite visas eilutes, kuriose yra žodis \"vėjas\"."
   ]
  },
  {
   "cell_type": "code",
   "execution_count": 19,
   "metadata": {},
   "outputs": [],
   "source": [
    "with open(\"eilutes.txt\", \"w\", encoding=\"utf-8\") as failas:\n",
    "    failas.write(\"Saulėlydis žėri žemę švelniai.\\n\")\n",
    "    failas.write(\"Vakare vėjas šnypščia medžius.\\n\")\n",
    "    failas.write(\"Vėjas nerimsta, šnypščia ir švilpia.\\n\")"
   ]
  },
  {
   "cell_type": "code",
   "execution_count": 20,
   "metadata": {},
   "outputs": [],
   "source": [
    "with open(\"eilutes.txt\", \"a\", encoding=\"utf-8\") as failas:\n",
    "    failas.write(\"Jolita Visockaitė\\n\")  # Čia įrašykite savo vardą ir pavardę"
   ]
  },
  {
   "cell_type": "code",
   "execution_count": 21,
   "metadata": {},
   "outputs": [
    {
     "name": "stdout",
     "output_type": "stream",
     "text": [
      "Vakare vėjas šnypščia medžius.\n",
      "\n"
     ]
    }
   ],
   "source": [
    "with open(\"eilutes.txt\", \"r\", encoding=\"utf-8\") as failas:\n",
    "    for eilute in failas:\n",
    "        if \"vėjas\" in eilute:\n",
    "            print(eilute)"
   ]
  },
  {
   "cell_type": "markdown",
   "metadata": {},
   "source": [
    "### Pirma užduotis\n",
    "Sukurkite naują katalogą pavadinimu \"Mano_Katalogas\" dabartinėje darbo vietoje. Patikrinkite, ar katalogas buvo sėkmingai sukurtas, ir atspausdinkite rezultatą."
   ]
  },
  {
   "cell_type": "code",
   "execution_count": 1,
   "metadata": {},
   "outputs": [
    {
     "name": "stdout",
     "output_type": "stream",
     "text": [
      "Katalogas 'Mano_Katalogas' sukurtas.\n"
     ]
    }
   ],
   "source": [
    "import os\n",
    "\n",
    "katalogo_kelias = \"Mano_Katalogas\"\n",
    "\n",
    "if not os.path.exists(katalogo_kelias):\n",
    "    os.makedirs(katalogo_kelias)\n",
    "    print(f\"Katalogas '{katalogo_kelias}' sukurtas.\")\n",
    "else:\n",
    "    print(f\"Katalogas '{katalogo_kelias}' jau egzistuoja.\")"
   ]
  },
  {
   "cell_type": "markdown",
   "metadata": {},
   "source": [
    "### Antra užduotis\n",
    "Parašykite programą, kuri peržiūrėtų dabartinį darbo katalogą ir atspausdintų visus rastus failus bei katalogus."
   ]
  },
  {
   "cell_type": "code",
   "execution_count": 2,
   "metadata": {},
   "outputs": [
    {
     "name": "stdout",
     "output_type": "stream",
     "text": [
      "Dabartinis katalogas: c:\\Users\\visoc\\CodeAcademy\\course-python-basic\\08_darbas_su_failais\n",
      "Failai ir katalogai:\n",
      "01_failu_skaitymas_rasymas.md\n",
      "02_json_biblioteka.md\n",
      "03_os_modulis.md\n",
      "04_binary_zymes.md\n",
      "05_pickle_biblioteka.md\n",
      "0801en_answers.ipynb\n",
      "08_uzduotis.ipynb\n",
      "append.txt\n",
      "eilutes.txt\n",
      "failas.txt\n",
      "Mano_Katalogas\n",
      "pakeitimai.txt\n",
      "skaiciai.txt\n",
      "tekstas.txt\n",
      "write_read.txt\n"
     ]
    }
   ],
   "source": [
    "import os\n",
    "\n",
    "dabartinis_katalogas = os.getcwd()\n",
    "print(f\"Dabartinis katalogas: {dabartinis_katalogas}\")\n",
    "\n",
    "print(\"Failai ir katalogai:\")\n",
    "for elementas in os.listdir(dabartinis_katalogas):\n",
    "    print(elementas)"
   ]
  },
  {
   "cell_type": "markdown",
   "metadata": {},
   "source": [
    "### Trečia užduotis\n",
    "Sukurkite naują failą pavadinimu \"testas.txt\" dabartinėje darbo vietoje. Tada parašykite programą, kuri patikrintų, ar failas \"testas.txt\" egzistuoja, ir trintų jį, jei egzistuoja. Atspausdinkite rezultatą, kad failas buvo sėkmingai ištrintas."
   ]
  },
  {
   "cell_type": "code",
   "execution_count": 13,
   "metadata": {},
   "outputs": [
    {
     "name": "stdout",
     "output_type": "stream",
     "text": [
      "Failas 'testas.txt' ištrintas.\n"
     ]
    }
   ],
   "source": [
    "import os\n",
    "\n",
    "failo_kelias = \"testas.txt\"\n",
    "\n",
    "# Sukurkite failą\n",
    "with open(failo_kelias, \"w\") as f:\n",
    "    f.write(\"Tai yra testinis failas.\")\n",
    "\n",
    "# Patikrinkite, ar failas egzistuoja, ir trinkite jį\n",
    "if os.path.exists(failo_kelias):\n",
    "    os.remove(failo_kelias)\n",
    "    print(f\"Failas '{failo_kelias}' ištrintas.\")\n",
    "else:\n",
    "    print(f\"Failas '{failo_kelias}' neegzistuoja.\")"
   ]
  }
 ],
 "metadata": {
  "kernelspec": {
   "display_name": "Python 3",
   "language": "python",
   "name": "python3"
  },
  "language_info": {
   "codemirror_mode": {
    "name": "ipython",
    "version": 3
   },
   "file_extension": ".py",
   "mimetype": "text/x-python",
   "name": "python",
   "nbconvert_exporter": "python",
   "pygments_lexer": "ipython3",
   "version": "3.12.1"
  }
 },
 "nbformat": 4,
 "nbformat_minor": 2
}
