{
 "cells": [
  {
   "cell_type": "markdown",
   "metadata": {},
   "source": [
    "### Pirma užduotis\n",
    "Atidarykite tekstiniame faile esančią eilutę ir atspausdinkite ją, pakeičiant visus didžiąsias raides mažosiomis ir atvirkščiai. Failo pavadinimas: \"pakeitimai.txt\".💡 Galite naudoti swapcase() funkciją."
   ]
  },
  {
   "cell_type": "code",
   "execution_count": 17,
   "metadata": {},
   "outputs": [
    {
     "name": "stdout",
     "output_type": "stream",
     "text": [
      "\"lABA dIENA, jUMS PRANESIMAS IS kAZIO\"\n",
      "\n"
     ]
    }
   ],
   "source": [
    "with open(\"pakeitimai.txt\", \"r\") as failas:\n",
    "    eilute = failas.readline()\n",
    "    nauja_eilute = eilute.swapcase()\n",
    "    print(nauja_eilute)"
   ]
  },
  {
   "cell_type": "markdown",
   "metadata": {},
   "source": [
    "### Antra užduotis\n",
    "Sukurkite naują failą \"skaiciai.txt\" ir įrašykite į jį skaičius nuo 1 iki 100, kiekvieną naujoje eilutėje."
   ]
  },
  {
   "cell_type": "code",
   "execution_count": 25,
   "metadata": {},
   "outputs": [],
   "source": [
    "with open(\"skaiciai.txt\", \"w\") as failas:\n",
    "    for skaicius in range(1, 101):\n",
    "        failas.write(f\"{skaicius}\\n\")"
   ]
  },
  {
   "cell_type": "markdown",
   "metadata": {},
   "source": [
    "### Trečia užduotis\n",
    "Atidarykite \"tekstas.txt\" failą, pakeiskite failo žymeklį į vidurį failo ir atspausdinkite likusį failo turinį."
   ]
  },
  {
   "cell_type": "code",
   "execution_count": 26,
   "metadata": {},
   "outputs": [
    {
     "name": "stdout",
     "output_type": "stream",
     "text": [
      "del nieko nerodo\n"
     ]
    }
   ],
   "source": [
    "with open(\"tekstas.txt\", \"r\") as failas:\n",
    "    failas.seek(0, 2)  # Pereikite į failo pabaigą\n",
    "    failo_ilgis = failas.tell()  # Gauti failo ilgį\n",
    "    vidurys = failo_ilgis // 2  # Rasti failo vidurį\n",
    "\n",
    "    failas.seek(vidurys)  # Nustatykite žymeklį ant vidurio\n",
    "    likusi_dalis = failas.read()  # Perskaitykite likusią dalį\n",
    "    print(likusi_dalis)"
   ]
  },
  {
   "cell_type": "markdown",
   "metadata": {},
   "source": [
    "### Ketvirta užduotis\n",
    "Sukurkite failą \"eilutes.txt\" ir įrašykite į jį šias eilutes:\n",
    "Saulėlydis žėri žemę švelniai.\n",
    "Vakare vėjas šnypščia medžius.\n",
    "Vėjas nerimsta, šnypščia ir švilpia.\n",
    "Papildykite failą \"eilutes.txt\" nauja eilute, kuri yra jūsų vardas ir pavardė.\n",
    "\n",
    "Atidarykite \"eilutes.txt\" failą, perskaitykite jo turinį ir atspausdinkite visas eilutes, kuriose yra žodis \"vėjas\"."
   ]
  },
  {
   "cell_type": "code",
   "execution_count": 19,
   "metadata": {},
   "outputs": [],
   "source": [
    "with open(\"eilutes.txt\", \"w\", encoding=\"utf-8\") as failas:\n",
    "    failas.write(\"Saulėlydis žėri žemę švelniai.\\n\")\n",
    "    failas.write(\"Vakare vėjas šnypščia medžius.\\n\")\n",
    "    failas.write(\"Vėjas nerimsta, šnypščia ir švilpia.\\n\")"
   ]
  },
  {
   "cell_type": "code",
   "execution_count": 20,
   "metadata": {},
   "outputs": [],
   "source": [
    "with open(\"eilutes.txt\", \"a\", encoding=\"utf-8\") as failas:\n",
    "    failas.write(\"Jolita Visockaitė\\n\")  # Čia įrašykite savo vardą ir pavardę"
   ]
  },
  {
   "cell_type": "code",
   "execution_count": 21,
   "metadata": {},
   "outputs": [
    {
     "name": "stdout",
     "output_type": "stream",
     "text": [
      "Vakare vėjas šnypščia medžius.\n",
      "\n"
     ]
    }
   ],
   "source": [
    "with open(\"eilutes.txt\", \"r\", encoding=\"utf-8\") as failas:\n",
    "    for eilute in failas:\n",
    "        if \"vėjas\" in eilute:\n",
    "            print(eilute)"
   ]
  }
 ],
 "metadata": {
  "kernelspec": {
   "display_name": "Python 3",
   "language": "python",
   "name": "python3"
  },
  "language_info": {
   "codemirror_mode": {
    "name": "ipython",
    "version": 3
   },
   "file_extension": ".py",
   "mimetype": "text/x-python",
   "name": "python",
   "nbconvert_exporter": "python",
   "pygments_lexer": "ipython3",
   "version": "3.12.1"
  }
 },
 "nbformat": 4,
 "nbformat_minor": 2
}
