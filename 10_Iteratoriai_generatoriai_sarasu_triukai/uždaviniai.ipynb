{
 "cells": [
  {
   "cell_type": "markdown",
   "metadata": {},
   "source": [
    "### Pirma užduotis\n",
    "Sukurkite programą, kuri naudoja lambda, map() ir filter() funkcijas, kad atrinktų sąrašo elementus, didesnius už 10, ir padidintų juos dvigubai. Palyginkite šį rezultatą su tuo, ką gautumėte naudodami \"list comprehension\"."
   ]
  },
  {
   "cell_type": "code",
   "execution_count": 1,
   "metadata": {},
   "outputs": [
    {
     "name": "stdout",
     "output_type": "stream",
     "text": [
      "[24, 36, 30]\n",
      "[24, 36, 30]\n"
     ]
    }
   ],
   "source": [
    "sarasas = [5, 12, 7, 18, 4, 15]\n",
    "\n",
    "# Atrinkti ir padidinti dvigubai skaičius, didesnius už 10\n",
    "result = map(lambda x: x * 2, filter(lambda x: x > 10, sarasas))\n",
    "print(list(result))  # [24, 36, 30]\n",
    "\n",
    "# Su paprastomis funkcijomis ir `for` ciklais\n",
    "result = [x * 2 for x in sarasas if x > 10]\n",
    "print(result)  # [24, 36, 30]"
   ]
  },
  {
   "cell_type": "code",
   "execution_count": null,
   "metadata": {},
   "outputs": [],
   "source": [
    "skaiciai = [1, 56, 13, 8, 6, 18, 99, 152, 898]\n",
    "didesnis_nei_10 = list(filter(lambda x: x > 10, skaiciai))\n",
    "print(didesnis_nei_10)\n",
    "skaicius_kvadratu = list(map(lambda x: x**2, didesnis_nei_10))\n",
    "print(skaicius_kvadratu)"
   ]
  },
  {
   "cell_type": "code",
   "execution_count": null,
   "metadata": {},
   "outputs": [],
   "source": [
    "skaiciai = [1, 56, 13, 8, 6, 18, 99]\n",
    "didesnis_nei_10 = list(filter(lambda x: x > 10, skaiciai))\n",
    "print(didesnis_nei_10)\n",
    "skaiciu_kvadratai = [x**2 for x in didesnis_nei_10]\n",
    "print(skaiciu_kvadratai)"
   ]
  },
  {
   "cell_type": "markdown",
   "metadata": {},
   "source": [
    "### Antra užduotis\n",
    "Parašykite programą, kuri naudoja reduce() funkciją, kad rastų sąrašo elementų sandaugą."
   ]
  },
  {
   "cell_type": "code",
   "execution_count": null,
   "metadata": {},
   "outputs": [],
   "source": [
    "def sumuojam(x, y):\n",
    "    rez = x + y\n",
    "    print(f\"{x} + {y} = {rez}\")\n",
    "    return rez\n",
    "\n",
    "from functools import reduce\n",
    "\n",
    "skaiciai = [2, 3, 5, 7, 11, 4, 9, 32, -17, 42, -33, 69]\n",
    "suma = reduce(sumuojam, skaiciai)\n",
    "print(suma)"
   ]
  },
  {
   "cell_type": "code",
   "execution_count": null,
   "metadata": {},
   "outputs": [],
   "source": [
    "from functools import reduce\n",
    "\n",
    "\n",
    "sarasas = [15, 2, 14, 7, 8]\n",
    "sandauga = reduce(lambda x, y: x * y, sarasas)\n",
    "print(sandauga)  "
   ]
  },
  {
   "cell_type": "markdown",
   "metadata": {},
   "source": [
    "### Trečia užduotis\n",
    "Naudodamiesi statistics moduliu, apskaičiuokite ir išveskite sąrašo elementų sumą, vidurkį, medianą, mažiausią ir didžiausią elementą."
   ]
  },
  {
   "cell_type": "code",
   "execution_count": null,
   "metadata": {},
   "outputs": [],
   "source": [
    "import statistics\n",
    "\n",
    "sarasas = [15, 2, 14, 7, 8]\n",
    "\n",
    "def vidurkio_skaiciavimas(sarasas):\n",
    "        return sum(sarasas) / len(sarasas)\n",
    "    \n",
    "vidurkis = vidurkio_skaiciavimas(sarasas)\n",
    "print(f\"Vidurkis: {vidurkis}\")\n",
    "\n",
    "print(sum(sarasas))\n",
    "print(statistics.mean(sarasas))\n",
    "print(statistics.median(sarasas))\n",
    "print(min(sarasas))\n",
    "print(max(sarasas))"
   ]
  },
  {
   "cell_type": "markdown",
   "metadata": {},
   "source": [
    "### Ketvirta užduotis\n",
    "Sukurkite programą, kuri naudoja sort() arba sorted() funkcijas, kad rūšiuotų sąrašą skaičių pagal jų liekanas dalinant iš 3 (atsižvelgiant į key parametrą)."
   ]
  },
  {
   "cell_type": "code",
   "execution_count": null,
   "metadata": {},
   "outputs": [],
   "source": [
    "sarasas = [1, 56, 13, 8, 6, 18, 99]\n",
    "rūšiuotas_sarasas = sorted(sarasas, key=lambda x: x % 3)\n",
    "print(rūšiuotas_sarasas)"
   ]
  },
  {
   "cell_type": "code",
   "execution_count": null,
   "metadata": {},
   "outputs": [],
   "source": [
    "#pasigilinti reikia čia"
   ]
  },
  {
   "cell_type": "markdown",
   "metadata": {},
   "source": [
    "### Penkta užduotis\n",
    "Sukurkite programą, kuri naudoja lambda, filter() ir reduce() funkcijas, kad apskaičiuotų vidurkį tų sąrašo skaičių, kurie yra lyginiai. Palyginkite šį rezultatą su tuo, ką gautumėte naudodami \"list comprehension\"."
   ]
  },
  {
   "cell_type": "code",
   "execution_count": null,
   "metadata": {},
   "outputs": [],
   "source": [
    "from functools import reduce\n",
    "\n",
    "skaiciai = [1, 56, 13, 8, 6, 18, 99, 152, 898]\n",
    "lyginiai = [skaicius for skaicius in skaiciai if skaicius % 2 == 0]\n",
    "\n",
    "didesnis_nei_10 = list(filter(lambda x: x > 10, skaiciai))\n",
    "print(didesnis_nei_10)\n",
    "skaicius_kvadratu = list(map(lambda x: x**2, didesnis_nei_10))\n",
    "print(skaicius_kvadratu)"
   ]
  },
  {
   "cell_type": "code",
   "execution_count": null,
   "metadata": {},
   "outputs": [],
   "source": [
    "skaiciai = [1, 2, 3, 4, 5]\n",
    "dvigubas_skaiciai = [(lambda x: x * 2)(x) for x in skaiciai]\n",
    "print(dvigubas_skaiciai)  # Rezultatas: [2, 4, 6, 8, 10]"
   ]
  },
  {
   "cell_type": "code",
   "execution_count": null,
   "metadata": {},
   "outputs": [],
   "source": [
    "from functools import reduce\n",
    "\n",
    "sarasas = [1, 2, 3, 4, 5]\n",
    "\n",
    "result = reduce(lambda x, y: x + y, filter(lambda x: x % 2 == 0, sarasas)) / len(list(filter(lambda x: x % 2 == 0, sarasas)))\n",
    "print(result)  # 3.0\n",
    "\n",
    "# Su paprastomis funkcijomis ir `for` ciklais\n",
    "result = sum(x for x in sarasas if x % 2 == 0) / len([x for x in sarasas if x % 2 == 0])\n",
    "print(result)  # 3.0"
   ]
  },
  {
   "cell_type": "markdown",
   "metadata": {},
   "source": [
    "### Pirma užduotis\n",
    "Sukurkite iteratorių, kuris iteruoja per pateiktą sąrašą ir atspausdina visus lyginius skaičius."
   ]
  },
  {
   "cell_type": "code",
   "execution_count": null,
   "metadata": {},
   "outputs": [],
   "source": [
    "my_list = [1, 58 ,121, 125, 148]\n",
    "\n",
    "my_iterator = iter(my_list)\n",
    "\n",
    "for skaicius in my_iterator:\n",
    "    if skaicius % 2 == 0:\n",
    "        print(skaicius)"
   ]
  },
  {
   "cell_type": "code",
   "execution_count": null,
   "metadata": {},
   "outputs": [],
   "source": [
    "sarasas = [1, 58 ,121, 125, 148]\n",
    "iteruotas_sarasas = iter(sarasas)\n",
    "while True:\n",
    "    try:\n",
    "        skaicius = next(iteruotas_sarasas)\n",
    "        if skaicius % 2 == 0:\n",
    "            print(skaicius)\n",
    "    except StopIteration:\n",
    "        print(\"Skaičiai baigėsi\")\n",
    "        break"
   ]
  },
  {
   "cell_type": "markdown",
   "metadata": {},
   "source": [
    "### Antra užduotis\n",
    "Iteruokite per žodyną, kurio raktai yra raidės, o reikšmės yra skaičiai, ir atspausdinkite tik tas raides, kurių reikšmės yra didesnės nei 4."
   ]
  },
  {
   "cell_type": "code",
   "execution_count": null,
   "metadata": {},
   "outputs": [],
   "source": [
    "mano_zodynas = {\"A\": 1, \"B\": 8, \"C\": 13,\"D\": 0, \"E\": 50, \"F\": 9}\n",
    "\n",
    "mano_iteratorius = iter(mano_zodynas.items())\n",
    "\n",
    "while True:\n",
    "    try:\n",
    "        raktas, reiksme = next(mano_iteratorius)\n",
    "        if reiksme > 4:\n",
    "            print(raktas, reiksme)\n",
    "    except StopIteration:\n",
    "        break"
   ]
  },
  {
   "cell_type": "code",
   "execution_count": null,
   "metadata": {},
   "outputs": [],
   "source": [
    "zodynas = {\"A\": 1, \"B\": 8, \"C\": 13,\"D\": 0, \"E\": 50, \"F\": 9 }\n",
    "iter_zodynas = iter(zodynas.items())\n",
    "while True:\n",
    "    try:\n",
    "        key, value = next(iter_zodynas)\n",
    "        if value > 4:\n",
    "            print(key)\n",
    "    except StopIteration:\n",
    "        break"
   ]
  },
  {
   "cell_type": "markdown",
   "metadata": {},
   "source": [
    "### Trečia užduotis\n",
    "Parašykite programą, kuri naudoja generatorių, generuojantį kiekvieno žodžio ilgį iš teksto."
   ]
  },
  {
   "cell_type": "code",
   "execution_count": null,
   "metadata": {},
   "outputs": [],
   "source": [
    "def word_length_generator(text):\n",
    "    for word in text.split():\n",
    "        yield len(word)\n",
    "\n",
    "# Pavyzdys kaip naudoti generatorių\n",
    "tekstas = \"Tai yra pavyzdinis tekstas\"\n",
    "ilgiai = word_length_generator(tekstas)\n",
    "\n",
    "for ilgis in ilgiai:\n",
    "    print(ilgis)\n"
   ]
  },
  {
   "cell_type": "code",
   "execution_count": null,
   "metadata": {},
   "outputs": [],
   "source": [
    "tekstas = \"Labas pasauli čia yra pavyzdinis tekstas\"\n",
    "zodziu_ilgiai = (len(zodis) for zodis in tekstas.split())\n",
    "\n",
    "for ilgis in zodziu_ilgiai:\n",
    "    print(ilgis)"
   ]
  },
  {
   "cell_type": "markdown",
   "metadata": {},
   "source": [
    "### Ketvirta užduotis\n",
    "Sukurkite generatorių, kuris generuoja visus pirminius skaičius iki nurodyto skaičiaus n."
   ]
  },
  {
   "cell_type": "code",
   "execution_count": null,
   "metadata": {},
   "outputs": [],
   "source": [
    "def is_prime(num):\n",
    "    if num < 2:\n",
    "        return False\n",
    "    for i in range(2, int(num**0.5) + 1):\n",
    "        if num % i == 0:\n",
    "            return False\n",
    "    return True\n",
    "\n",
    "def prime_generator(n):\n",
    "    for number in range(2, n + 1):\n",
    "        if is_prime(number):\n",
    "            yield number\n",
    "\n",
    "n = 30\n",
    "for prime in prime_generator(n):\n",
    "    print(prime)\n"
   ]
  },
  {
   "cell_type": "code",
   "execution_count": null,
   "metadata": {},
   "outputs": [],
   "source": [
    "def ar_pirminis(skaicius):\n",
    "    if skaicius < 2:\n",
    "        return False\n",
    "    for i in range(2, skaicius):\n",
    "        if skaicius % i == 0:\n",
    "            return False\n",
    "    return True\n",
    "\n",
    "def pirminiai_iki_n(n):\n",
    "    for skaicius in range(2, n + 1):\n",
    "        if ar_pirminis(skaicius):\n",
    "            yield skaicius\n",
    "\n",
    "pirminiai_generatorius = pirminiai_iki_n(30)\n",
    "\n",
    "for skaicius in pirminiai_generatorius:\n",
    "    print(skaicius)"
   ]
  }
 ],
 "metadata": {
  "kernelspec": {
   "display_name": "venv",
   "language": "python",
   "name": "python3"
  },
  "language_info": {
   "codemirror_mode": {
    "name": "ipython",
    "version": 3
   },
   "file_extension": ".py",
   "mimetype": "text/x-python",
   "name": "python",
   "nbconvert_exporter": "python",
   "pygments_lexer": "ipython3",
   "version": "3.12.1"
  }
 },
 "nbformat": 4,
 "nbformat_minor": 2
}
